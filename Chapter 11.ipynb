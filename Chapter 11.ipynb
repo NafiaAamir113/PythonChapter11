{
 "cells": [
  {
   "cell_type": "markdown",
   "id": "3e7c4ac6",
   "metadata": {},
   "source": [
    "# Title: Chapter 11"
   ]
  },
  {
   "cell_type": "code",
   "execution_count": 3,
   "id": "d53b2d5d",
   "metadata": {},
   "outputs": [
    {
     "name": "stdout",
     "output_type": "stream",
     "text": [
      "24\n"
     ]
    }
   ],
   "source": [
    "class Cat:\n",
    "    years = 0\n",
    "    def age (self):\n",
    "        return self.years * 12\n",
    "myLuna = Cat()\n",
    "myLuna.years = 2\n",
    "print(myLuna.age())"
   ]
  },
  {
   "cell_type": "code",
   "execution_count": 4,
   "id": "53abcb1f",
   "metadata": {},
   "outputs": [
    {
     "name": "stdout",
     "output_type": "stream",
     "text": [
      "<__main__.Apple object at 0x000001B8118C4350>\n"
     ]
    }
   ],
   "source": [
    "class Apple:\n",
    "    def __init__(self, color, flavor):\n",
    "        self.color = color\n",
    "        self.flavor = flavor\n",
    "\n",
    "jonagold = Apple(\"red\", \"sweet\")\n",
    "print(jonagold)"
   ]
  },
  {
   "cell_type": "code",
   "execution_count": 5,
   "id": "553d7f54",
   "metadata": {},
   "outputs": [
    {
     "name": "stdout",
     "output_type": "stream",
     "text": [
      "Hi, my name is Ali\n",
      "None\n"
     ]
    }
   ],
   "source": [
    "class Person:\n",
    "    def __init__(self, name):\n",
    "        self.name = name\n",
    "    def greeting(self):\n",
    "       \n",
    "        return print(\"Hi, my name is {}\".format(self.name))\n",
    "\n",
    "\n",
    "some_person = Person(\"Ali\") \n",
    "print(some_person.greeting())"
   ]
  },
  {
   "cell_type": "code",
   "execution_count": 10,
   "id": "6091bd23",
   "metadata": {},
   "outputs": [],
   "source": [
    "class Repository:\n",
    "    def __init__(self):\n",
    "        self.packages = {}\n",
    "    def add_package(self, package):\n",
    "        self.packages[package.name] = package\n",
    "    def total_size(self):\n",
    "        result = 0\n",
    "        for package in self.packages.values():\n",
    "            result += package.size\n",
    "        return result"
   ]
  },
  {
   "cell_type": "code",
   "execution_count": 9,
   "id": "344804c6",
   "metadata": {},
   "outputs": [
    {
     "name": "stdout",
     "output_type": "stream",
     "text": [
      "Meow! I'm Luna! Meow\n"
     ]
    }
   ],
   "source": [
    "class Cat:\n",
    "    name = \"\"\n",
    "    def speak(self):\n",
    "        print(\"Meow! I'm {}! Meow\".format(self.name))\n",
    "myLuna = Cat()\n",
    "myLuna.name = \"Luna\"\n",
    "myLuna.speak()"
   ]
  },
  {
   "cell_type": "code",
   "execution_count": 11,
   "id": "ede2e779",
   "metadata": {},
   "outputs": [
    {
     "name": "stdout",
     "output_type": "stream",
     "text": [
      "Meow! I'm Luna! Meow\n",
      "Meow! I'm Bella! Meow\n"
     ]
    }
   ],
   "source": [
    "class Cat:\n",
    "    name = \"\"\n",
    "    def speak(self):\n",
    "        print(\"Meow! I'm {}! Meow\".format(self.name))\n",
    "myLuna = Cat()\n",
    "myLuna.name = \"Luna\"\n",
    "myLuna.speak()\n",
    "myBella = Cat()\n",
    "myBella.name = \"Bella\"\n",
    "myBella.speak()"
   ]
  },
  {
   "cell_type": "code",
   "execution_count": null,
   "id": "0e91ceea",
   "metadata": {},
   "outputs": [],
   "source": []
  }
 ],
 "metadata": {
  "kernelspec": {
   "display_name": "Python 3 (ipykernel)",
   "language": "python",
   "name": "python3"
  },
  "language_info": {
   "codemirror_mode": {
    "name": "ipython",
    "version": 3
   },
   "file_extension": ".py",
   "mimetype": "text/x-python",
   "name": "python",
   "nbconvert_exporter": "python",
   "pygments_lexer": "ipython3",
   "version": "3.11.4"
  }
 },
 "nbformat": 4,
 "nbformat_minor": 5
}
